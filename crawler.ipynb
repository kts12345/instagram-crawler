{
 "cells": [
  {
   "cell_type": "code",
   "execution_count": 1,
   "metadata": {},
   "outputs": [],
   "source": [
    "from __future__ import unicode_literals\n",
    "from builtins import open\n",
    "import datetime\n",
    "\n",
    "from inscrawler import InsCrawler\n",
    "import sys\n",
    "import argparse\n",
    "import json\n",
    "from io import open\n",
    "\n",
    "import crawler"
   ]
  },
  {
   "cell_type": "code",
   "execution_count": 2,
   "metadata": {},
   "outputs": [],
   "source": [
    "tag    = '운전면허증'\n",
    "output = '운전면허증_1000.json'\n",
    "number = 1000"
   ]
  },
  {
   "cell_type": "code",
   "execution_count": null,
   "metadata": {},
   "outputs": [
    {
     "name": "stdout",
     "output_type": "stream",
     "text": [
      "시작: 2018-08-16 22:09:59.392739\n"
     ]
    },
    {
     "name": "stderr",
     "output_type": "stream",
     "text": [
      "fetching:  12%|█▏        | 122/1000 [22:13<2:34:48, 10.58s/it]"
     ]
    }
   ],
   "source": [
    "start_time = datetime.datetime.now()\n",
    "print ('시작:', start_time)\n",
    "\n",
    "out = crawler.get_posts_by_hashtag(tag, number)\n",
    "crawler.output(out, output)\n",
    "\n",
    "end_time = datetime.datetime.now()\n",
    "print ('종료:', start_time)\n",
    "\n",
    "print ('소요시간:', end_time - start_time)"
   ]
  },
  {
   "cell_type": "code",
   "execution_count": null,
   "metadata": {},
   "outputs": [],
   "source": []
  }
 ],
 "metadata": {
  "kernelspec": {
   "display_name": "Python 3",
   "language": "python",
   "name": "python3"
  },
  "language_info": {
   "codemirror_mode": {
    "name": "ipython",
    "version": 3
   },
   "file_extension": ".py",
   "mimetype": "text/x-python",
   "name": "python",
   "nbconvert_exporter": "python",
   "pygments_lexer": "ipython3",
   "version": "3.6.6"
  }
 },
 "nbformat": 4,
 "nbformat_minor": 2
}
